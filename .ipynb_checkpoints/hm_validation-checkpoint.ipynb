{
 "cells": [
  {
   "cell_type": "code",
   "execution_count": 1,
   "metadata": {},
   "outputs": [],
   "source": [
    "#it's a library, so shhh!\n",
    "shhh = function(...){\n",
    "    suppressWarnings(\n",
    "        suppressPackageStartupMessages(base::library(...))\n",
    "    )\n",
    "}\n",
    "\n",
    "shhh(tidyverse)\n",
    "shhh(psych)"
   ]
  },
  {
   "cell_type": "code",
   "execution_count": 20,
   "metadata": {},
   "outputs": [
    {
     "name": "stderr",
     "output_type": "stream",
     "text": [
      "Warning message in readLines(\"./data/dat_cln.csv\"):\n",
      "“incomplete final line found on './data/dat_cln.csv'”"
     ]
    }
   ],
   "source": [
    "#read in the data\n",
    "readFile = readLines(\"./data/dat_cln.csv\")\n",
    "datFull = read.csv(textConnection(readFile[-2]), header = T, sep = \",\")"
   ]
  }
 ],
 "metadata": {
  "kernelspec": {
   "display_name": "R",
   "language": "R",
   "name": "ir"
  },
  "language_info": {
   "codemirror_mode": "r",
   "file_extension": ".r",
   "mimetype": "text/x-r-source",
   "name": "R",
   "pygments_lexer": "r",
   "version": "3.5.3"
  }
 },
 "nbformat": 4,
 "nbformat_minor": 2
}
